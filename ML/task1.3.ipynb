{
 "cells": [
  {
   "cell_type": "code",
   "execution_count": 43,
   "metadata": {},
   "outputs": [],
   "source": [
    "request_spending = {\n",
    "    \"Mahek\": {\n",
    "        \"balance\": 3000.00,\n",
    "        \"transactions\": [\n",
    "            {\"amount\": -9000.00, \"category\": \"Creatives\"},\n",
    "            {\"amount\": 7000.00, \"category\": \"Sponsor\"},\n",
    "            {\"amount\": -2000.00, \"category\": \"Prize-Money\"},\n",
    "        ],\n",
    "    },\n",
    "    \"Arham\": {\n",
    "        \"balance\": 5000.00,\n",
    "        \"transactions\": [\n",
    "            {\"amount\": 8000.00, \"category\": \"Stalls\"},\n",
    "            {\"amount\": 7500.00, \"category\": \"Seminars\"},\n",
    "        ],\n",
    "    },\n",
    "    \"Unnati\": {\n",
    "        \"balance\": 3500.00,\n",
    "        \"transactions\": [\n",
    "            {\"amount\": -4000.00, \"category\": \"Attraction\"},\n",
    "            {\"amount\": 2500.00, \"category\": \"Promo\"},\n",
    "            {\"amount\": -900.00, \"category\": \"Lighting\"},\n",
    "            {\"amount\": -3000.00, \"category\": \"Games\"},\n",
    "        ],\n",
    "    },\n",
    "    \"Gaurang\": {\n",
    "        \"balance\": 2000.00,\n",
    "        \"transactions\": [\n",
    "            {\"amount\": -1500.00, \"category\": \"Website\"},\n",
    "            {\"amount\": -200.00, \"category\": \"C2C\"},\n",
    "            {\"amount\": -500.00, \"category\": \"Posters\"},\n",
    "        ],\n",
    "    },\n",
    "}\n"
   ]
  },
  {
   "cell_type": "code",
   "execution_count": 63,
   "metadata": {},
   "outputs": [],
   "source": [
    "def total_spending(request_spending: dict, account_id: str, category: str) -> float:\n",
    "    details = tuple(request_spending[account_id].items())\n",
    "    transactions = details[1][1]\n",
    "    reqd_transaction = list(filter(lambda x: x['category'] == category, transactions))\n",
    "    amount = reqd_transaction[0]['amount']\n",
    "    return 0 if amount > 0 else abs(amount)\n"
   ]
  },
  {
   "cell_type": "code",
   "execution_count": 66,
   "metadata": {},
   "outputs": [
    {
     "data": {
      "text/plain": [
       "0"
      ]
     },
     "execution_count": 66,
     "metadata": {},
     "output_type": "execute_result"
    }
   ],
   "source": [
    "total_spending(request_spending, \"Mahek\", \"Sponsor\")"
   ]
  },
  {
   "cell_type": "code",
   "execution_count": 86,
   "metadata": {},
   "outputs": [],
   "source": [
    "def account_balance(request_spending: dict, account_id: str) -> float:\n",
    "    details = tuple(request_spending[account_id].items())\n",
    "    transactions = details[1][1]\n",
    "    amount = (sum(transaction['amount'] for transaction in transactions))\n",
    "    return details[0][1] + amount"
   ]
  },
  {
   "cell_type": "code",
   "execution_count": 90,
   "metadata": {},
   "outputs": [
    {
     "data": {
      "text/plain": [
       "-1900.0"
      ]
     },
     "execution_count": 90,
     "metadata": {},
     "output_type": "execute_result"
    }
   ],
   "source": [
    "account_balance(request_spending, \"Unnati\")"
   ]
  },
  {
   "cell_type": "code",
   "execution_count": 91,
   "metadata": {},
   "outputs": [],
   "source": [
    "def money_owed(request_spending: dict, account_id: str) -> float:\n",
    "    details = tuple(request_spending[account_id].items())\n",
    "    transactions = details[1][1]\n",
    "    return sum(transaction['amount'] for transaction in transactions if transaction['amount'] > 0 )"
   ]
  },
  {
   "cell_type": "code",
   "execution_count": 93,
   "metadata": {},
   "outputs": [
    {
     "data": {
      "text/plain": [
       "2500.0"
      ]
     },
     "execution_count": 93,
     "metadata": {},
     "output_type": "execute_result"
    }
   ],
   "source": [
    "money_owed(request_spending, \"Unnati\")"
   ]
  },
  {
   "cell_type": "code",
   "execution_count": null,
   "metadata": {},
   "outputs": [],
   "source": []
  }
 ],
 "metadata": {
  "kernelspec": {
   "display_name": "Python 3",
   "language": "python",
   "name": "python3"
  },
  "language_info": {
   "codemirror_mode": {
    "name": "ipython",
    "version": 3
   },
   "file_extension": ".py",
   "mimetype": "text/x-python",
   "name": "python",
   "nbconvert_exporter": "python",
   "pygments_lexer": "ipython3",
   "version": "3.10.12"
  }
 },
 "nbformat": 4,
 "nbformat_minor": 2
}
