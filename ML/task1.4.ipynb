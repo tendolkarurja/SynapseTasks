{
 "cells": [
  {
   "cell_type": "code",
   "execution_count": 1,
   "metadata": {},
   "outputs": [],
   "source": [
    "def waiting_time(start_time: int, order_time: str, prep_time: str) -> int:\n",
    "    return (start_time - order_time) + prep_time "
   ]
  },
  {
   "cell_type": "code",
   "execution_count": 4,
   "metadata": {},
   "outputs": [],
   "source": [
    "def avg_waiting_time(scroll: list[list]) -> float:\n",
    "    start_time, waiting = scroll[0][0], []\n",
    "    for customer in scroll:\n",
    "        order_time, prep_time= customer[0], customer[1]\n",
    "\n",
    "        #handles any situation when start_time exceeds 24 hours\n",
    "        start_time -= 24 if start_time >= 24 else 0\n",
    "\n",
    "        start_time = order_time if start_time < order_time else start_time\n",
    "        waiting.append(waiting_time(start_time, order_time, prep_time))\n",
    "        start_time += prep_time\n",
    "    return (sum(time for time in waiting) / len(scroll))"
   ]
  },
  {
   "cell_type": "code",
   "execution_count": 9,
   "metadata": {},
   "outputs": [
    {
     "data": {
      "text/plain": [
       "3.25"
      ]
     },
     "execution_count": 9,
     "metadata": {},
     "output_type": "execute_result"
    }
   ],
   "source": [
    "avg_waiting_time([[5, 2], [5, 4], [10, 3], [20, 1]])"
   ]
  },
  {
   "cell_type": "code",
   "execution_count": null,
   "metadata": {},
   "outputs": [],
   "source": []
  }
 ],
 "metadata": {
  "kernelspec": {
   "display_name": "Python 3",
   "language": "python",
   "name": "python3"
  },
  "language_info": {
   "codemirror_mode": {
    "name": "ipython",
    "version": 3
   },
   "file_extension": ".py",
   "mimetype": "text/x-python",
   "name": "python",
   "nbconvert_exporter": "python",
   "pygments_lexer": "ipython3",
   "version": "3.10.12"
  }
 },
 "nbformat": 4,
 "nbformat_minor": 2
}
