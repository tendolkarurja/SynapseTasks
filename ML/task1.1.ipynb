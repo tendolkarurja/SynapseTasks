{
 "cells": [
  {
   "cell_type": "code",
   "execution_count": 2,
   "metadata": {},
   "outputs": [],
   "source": [
    "from itertools import combinations as nCr"
   ]
  },
  {
   "cell_type": "code",
   "execution_count": 3,
   "metadata": {},
   "outputs": [],
   "source": [
    "Kevin = {\"Halsey\", \"Taylor Swift\", \"Mitski\", \"Joji\", \"Shawn Mendes\", \"Sabrina Carpenter\", \"Nicky Minaj\", \"Conan Gray\", \"One Direction\", \"Justin Bieber\"}\n",
    "Stuart = {\"Kendrick Lamar\", \"Steve Lacy\", \"Tyler the Creator\", \"Joji\", \"TheWeeknd\", \"Coldplay\", \"Kanye West\", \"Travis Scott\", \"Frank Ocean\", \"Brent Faiyaz\"}\n",
    "Bob = {\"Conan Gray\", \"Joji\", \"Dove Cameron\", \"Mitski\", \"Arctic Monkeys\", \"Steve Lacy\", \"Kendrick Lamar\", \"Isabel LaRosa\", \"Shawn Mendes\", \"Coldplay\"}\n",
    "Edith = {\"Metallica\", \"Billie Eilish\", \"TheWeeknd\", \"Mitski\", \"NF\", \"Conan Gray\", \"Kendrick Lamar\", \"Nicky Minaj\", \"Kanye West\", \"Coldplay\"}"
   ]
  },
  {
   "cell_type": "code",
   "execution_count": 4,
   "metadata": {},
   "outputs": [],
   "source": [
    "def generate_dict(dj_list: list[str], preference_list: list[set]) -> dict:\n",
    "    preferences = dict()\n",
    "    for name, artists in zip(dj_list, preference_list):\n",
    "        preferences[name] = artists\n",
    "    return preferences"
   ]
  },
  {
   "cell_type": "code",
   "execution_count": 5,
   "metadata": {},
   "outputs": [
    {
     "data": {
      "text/plain": [
       "{'Kevin': {'Conan Gray',\n",
       "  'Halsey',\n",
       "  'Joji',\n",
       "  'Justin Bieber',\n",
       "  'Mitski',\n",
       "  'Nicky Minaj',\n",
       "  'One Direction',\n",
       "  'Sabrina Carpenter',\n",
       "  'Shawn Mendes',\n",
       "  'Taylor Swift'},\n",
       " 'Stuart': {'Brent Faiyaz',\n",
       "  'Coldplay',\n",
       "  'Frank Ocean',\n",
       "  'Joji',\n",
       "  'Kanye West',\n",
       "  'Kendrick Lamar',\n",
       "  'Steve Lacy',\n",
       "  'TheWeeknd',\n",
       "  'Travis Scott',\n",
       "  'Tyler the Creator'},\n",
       " 'Bob': {'Arctic Monkeys',\n",
       "  'Coldplay',\n",
       "  'Conan Gray',\n",
       "  'Dove Cameron',\n",
       "  'Isabel LaRosa',\n",
       "  'Joji',\n",
       "  'Kendrick Lamar',\n",
       "  'Mitski',\n",
       "  'Shawn Mendes',\n",
       "  'Steve Lacy'},\n",
       " 'Edith': {'Billie Eilish',\n",
       "  'Coldplay',\n",
       "  'Conan Gray',\n",
       "  'Kanye West',\n",
       "  'Kendrick Lamar',\n",
       "  'Metallica',\n",
       "  'Mitski',\n",
       "  'NF',\n",
       "  'Nicky Minaj',\n",
       "  'TheWeeknd'}}"
      ]
     },
     "execution_count": 5,
     "metadata": {},
     "output_type": "execute_result"
    }
   ],
   "source": [
    "preference = generate_dict(['Kevin', 'Stuart', 'Bob', 'Edith'], [Kevin, Stuart, Bob, Edith])\n",
    "preference"
   ]
  },
  {
   "cell_type": "code",
   "execution_count": 6,
   "metadata": {},
   "outputs": [
    {
     "data": {
      "text/plain": [
       "<itertools.combinations at 0x7fd70d1327f0>"
      ]
     },
     "execution_count": 6,
     "metadata": {},
     "output_type": "execute_result"
    }
   ],
   "source": [
    "def generate_pairs(dj_list: list[int]) -> tuple:\n",
    "    return nCr(dj_list, 2)\n",
    "\n",
    "pairs = generate_pairs(['Kevin', 'Stuart', 'Bob', 'Edith'])\n",
    "pairs\n",
    "    "
   ]
  },
  {
   "cell_type": "code",
   "execution_count": 7,
   "metadata": {},
   "outputs": [],
   "source": [
    "def common_artists(pairs: tuple):\n",
    "    common = dict()\n",
    "    for pair in pairs:\n",
    "        dj1, dj2 = pair\n",
    "        common[f'{dj1} & {dj2}'] = (preference[dj1].intersection(preference[dj2]))\n",
    "        #print(preference[dj1].intersection(preference[dj2]))\n",
    "    return common"
   ]
  },
  {
   "cell_type": "code",
   "execution_count": 8,
   "metadata": {},
   "outputs": [
    {
     "data": {
      "text/plain": [
       "{'Kevin & Stuart': {'Joji'},\n",
       " 'Kevin & Bob': {'Conan Gray', 'Joji', 'Mitski', 'Shawn Mendes'},\n",
       " 'Kevin & Edith': {'Conan Gray', 'Mitski', 'Nicky Minaj'},\n",
       " 'Stuart & Bob': {'Coldplay', 'Joji', 'Kendrick Lamar', 'Steve Lacy'},\n",
       " 'Stuart & Edith': {'Coldplay', 'Kanye West', 'Kendrick Lamar', 'TheWeeknd'},\n",
       " 'Bob & Edith': {'Coldplay', 'Conan Gray', 'Kendrick Lamar', 'Mitski'}}"
      ]
     },
     "execution_count": 8,
     "metadata": {},
     "output_type": "execute_result"
    }
   ],
   "source": [
    "common_to_both = common_artists(pairs)\n",
    "common_to_both"
   ]
  },
  {
   "cell_type": "code",
   "execution_count": 9,
   "metadata": {},
   "outputs": [],
   "source": [
    "def is_min_30(combo: str, artists: set ) -> bool:\n",
    "    dj1, dj2 = combo.split(' & ')\n",
    "    count = len(artists)\n",
    "    return ((count * 100) / len(preference[dj1])) >= 30 and ((count * 100) / len(preference[dj2])) >= 30\n",
    "    "
   ]
  },
  {
   "cell_type": "code",
   "execution_count": 10,
   "metadata": {},
   "outputs": [
    {
     "data": {
      "text/plain": [
       "{'Kevin & Stuart': False,\n",
       " 'Kevin & Bob': True,\n",
       " 'Kevin & Edith': True,\n",
       " 'Stuart & Bob': True,\n",
       " 'Stuart & Edith': True,\n",
       " 'Bob & Edith': True}"
      ]
     },
     "execution_count": 10,
     "metadata": {},
     "output_type": "execute_result"
    }
   ],
   "source": [
    "min_30 = {}\n",
    "for key in common_to_both:\n",
    "    min_30[key] = (is_min_30(key, common_to_both[key]))\n",
    "\n",
    "min_30"
   ]
  },
  {
   "cell_type": "code",
   "execution_count": 14,
   "metadata": {},
   "outputs": [
    {
     "name": "stdout",
     "output_type": "stream",
     "text": [
      "Kevin & Bob, 4\n",
      "Kevin & Edith, 4\n",
      "Stuart & Bob, 4\n",
      "Stuart & Edith, 4\n",
      "Bob & Edith, 4\n"
     ]
    }
   ],
   "source": [
    "for i in min_30:\n",
    "    if min_30[i]:\n",
    "        print(f'{i}, {len(common_to_both[key])}')"
   ]
  },
  {
   "cell_type": "code",
   "execution_count": null,
   "metadata": {},
   "outputs": [],
   "source": []
  }
 ],
 "metadata": {
  "kernelspec": {
   "display_name": "Python 3",
   "language": "python",
   "name": "python3"
  },
  "language_info": {
   "codemirror_mode": {
    "name": "ipython",
    "version": 3
   },
   "file_extension": ".py",
   "mimetype": "text/x-python",
   "name": "python",
   "nbconvert_exporter": "python",
   "pygments_lexer": "ipython3",
   "version": "3.10.12"
  }
 },
 "nbformat": 4,
 "nbformat_minor": 2
}
