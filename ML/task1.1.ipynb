{
 "cells": [
  {
   "cell_type": "code",
   "execution_count": 53,
   "metadata": {},
   "outputs": [],
   "source": [
    "from itertools import combinations as nCr"
   ]
  },
  {
   "cell_type": "code",
   "execution_count": 54,
   "metadata": {},
   "outputs": [],
   "source": [
    "Kevin = {\"Halsey\", \"Taylor Swift\", \"Mitski\", \"Joji\", \"Shawn Mendes\", \"Sabrina Carpenter\", \"Nicky Minaj\", \"Conan Gray\", \"One Direction\", \"Justin Bieber\"}\n",
    "Stuart = {\"Kendrick Lamar\", \"Steve Lacy\", \"Tyler the Creator\", \"Joji\", \"TheWeeknd\", \"Coldplay\", \"Kanye West\", \"Travis Scott\", \"Frank Ocean\", \"Brent Faiyaz\"}\n",
    "Bob = {\"Conan Gray\", \"Joji\", \"Dove Cameron\", \"Mitski\", \"Arctic Monkeys\", \"Steve Lacy\", \"Kendrick Lamar\", \"Isabel LaRosa\", \"Shawn Mendes\", \"Coldplay\"}\n",
    "Edith = {\"Metallica\", \"Billie Eilish\", \"TheWeeknd\", \"Mitski\", \"NF\", \"Conan Gray\", \"Kendrick Lamar\", \"Nicky Minaj\", \"Kanye West\", \"Coldplay\"}"
   ]
  },
  {
   "cell_type": "code",
   "execution_count": 55,
   "metadata": {},
   "outputs": [],
   "source": [
    "def generate_dict(dj_list: list[str], preference_list: list[set]) -> dict:\n",
    "    preferences = dict()\n",
    "    for name, artists in zip(dj_list, preference_list):\n",
    "        preferences[name] = artists\n",
    "    return preferences"
   ]
  },
  {
   "cell_type": "code",
   "execution_count": 56,
   "metadata": {},
   "outputs": [
    {
     "data": {
      "text/plain": [
       "{'Kevin': {'Conan Gray',\n",
       "  'Halsey',\n",
       "  'Joji',\n",
       "  'Justin Bieber',\n",
       "  'Mitski',\n",
       "  'Nicky Minaj',\n",
       "  'One Direction',\n",
       "  'Sabrina Carpenter',\n",
       "  'Shawn Mendes',\n",
       "  'Taylor Swift'},\n",
       " 'Stuart': {'Brent Faiyaz',\n",
       "  'Coldplay',\n",
       "  'Frank Ocean',\n",
       "  'Joji',\n",
       "  'Kanye West',\n",
       "  'Kendrick Lamar',\n",
       "  'Steve Lacy',\n",
       "  'TheWeeknd',\n",
       "  'Travis Scott',\n",
       "  'Tyler the Creator'},\n",
       " 'Bob': {'Arctic Monkeys',\n",
       "  'Coldplay',\n",
       "  'Conan Gray',\n",
       "  'Dove Cameron',\n",
       "  'Isabel LaRosa',\n",
       "  'Joji',\n",
       "  'Kendrick Lamar',\n",
       "  'Mitski',\n",
       "  'Shawn Mendes',\n",
       "  'Steve Lacy'},\n",
       " 'Edith': {'Billie Eilish',\n",
       "  'Coldplay',\n",
       "  'Conan Gray',\n",
       "  'Kanye West',\n",
       "  'Kendrick Lamar',\n",
       "  'Metallica',\n",
       "  'Mitski',\n",
       "  'NF',\n",
       "  'Nicky Minaj',\n",
       "  'TheWeeknd'}}"
      ]
     },
     "execution_count": 56,
     "metadata": {},
     "output_type": "execute_result"
    }
   ],
   "source": [
    "preference = generate_dict(['Kevin', 'Stuart', 'Bob', 'Edith'], [Kevin, Stuart, Bob, Edith])\n",
    "preference"
   ]
  },
  {
   "cell_type": "code",
   "execution_count": 57,
   "metadata": {},
   "outputs": [
    {
     "data": {
      "text/plain": [
       "<itertools.combinations at 0x7f181c9a3010>"
      ]
     },
     "execution_count": 57,
     "metadata": {},
     "output_type": "execute_result"
    }
   ],
   "source": [
    "def generate_pairs(dj_list: list[int]) -> tuple:\n",
    "    return nCr(dj_list, 2)\n",
    "\n",
    "pairs = generate_pairs(['Kevin', 'Stuart', 'Bob', 'Edith'])\n",
    "pairs\n",
    "    "
   ]
  },
  {
   "cell_type": "code",
   "execution_count": 58,
   "metadata": {},
   "outputs": [],
   "source": [
    "def common_artists(pairs: tuple):\n",
    "    common = dict()\n",
    "    for pair in pairs:\n",
    "        dj1, dj2 = pair\n",
    "        common[f'{dj1} & {dj2}'] = (preference[dj1].intersection(preference[dj2]))\n",
    "        #print(preference[dj1].intersection(preference[dj2]))\n",
    "    return common"
   ]
  },
  {
   "cell_type": "code",
   "execution_count": 59,
   "metadata": {},
   "outputs": [
    {
     "data": {
      "text/plain": [
       "{'Kevin & Stuart': {'Joji'},\n",
       " 'Kevin & Bob': {'Conan Gray', 'Joji', 'Mitski', 'Shawn Mendes'},\n",
       " 'Kevin & Edith': {'Conan Gray', 'Mitski', 'Nicky Minaj'},\n",
       " 'Stuart & Bob': {'Coldplay', 'Joji', 'Kendrick Lamar', 'Steve Lacy'},\n",
       " 'Stuart & Edith': {'Coldplay', 'Kanye West', 'Kendrick Lamar', 'TheWeeknd'},\n",
       " 'Bob & Edith': {'Coldplay', 'Conan Gray', 'Kendrick Lamar', 'Mitski'}}"
      ]
     },
     "execution_count": 59,
     "metadata": {},
     "output_type": "execute_result"
    }
   ],
   "source": [
    "common_to_both = common_artists(pairs)\n",
    "common_to_both"
   ]
  },
  {
   "cell_type": "code",
   "execution_count": 60,
   "metadata": {},
   "outputs": [],
   "source": [
    "def is_min_30(combo: str, artists: set ) -> bool:\n",
    "    dj1, dj2 = combo.split(' & ')\n",
    "    count = len(artists)\n",
    "    return ((count * 100) / len(preference[dj1])) >= 30 and ((count * 100) / len(preference[dj2])) >= 30\n",
    "    "
   ]
  },
  {
   "cell_type": "code",
   "execution_count": 61,
   "metadata": {},
   "outputs": [
    {
     "data": {
      "text/plain": [
       "{'Kevin & Stuart': False,\n",
       " 'Kevin & Bob': True,\n",
       " 'Kevin & Edith': True,\n",
       " 'Stuart & Bob': True,\n",
       " 'Stuart & Edith': True,\n",
       " 'Bob & Edith': True}"
      ]
     },
     "execution_count": 61,
     "metadata": {},
     "output_type": "execute_result"
    }
   ],
   "source": [
    "min_30 = {}\n",
    "for key in common_to_both:\n",
    "    min_30[key] = (is_min_30(key, common_to_both[key]))\n",
    "\n",
    "min_30"
   ]
  },
  {
   "cell_type": "code",
   "execution_count": 62,
   "metadata": {},
   "outputs": [
    {
     "data": {
      "text/plain": [
       "['Kevin & Bob, 4',\n",
       " 'Kevin & Edith, 3',\n",
       " 'Stuart & Bob, 4',\n",
       " 'Stuart & Edith, 4',\n",
       " 'Bob & Edith, 4']"
      ]
     },
     "execution_count": 62,
     "metadata": {},
     "output_type": "execute_result"
    }
   ],
   "source": [
    "eligible_pairs = []\n",
    "for i in min_30:\n",
    "    if min_30[i]:\n",
    "        eligible_pairs.append(f'{i}, {len(common_to_both[i])}')\n",
    "\n",
    "eligible_pairs"
   ]
  },
  {
   "cell_type": "code",
   "execution_count": 63,
   "metadata": {},
   "outputs": [],
   "source": [
    "def overall(eligible_pairs: list[str]) -> dict:\n",
    "    overlap_in_pairs = {}\n",
    "    for pair in eligible_pairs:\n",
    "        group, common = pair.split(',')\n",
    "        dj1, dj2 = group.split(' & ')\n",
    "        overall_overlap = (int(common) * 100) / (len(preference[dj1]) + len(preference[dj2]))\n",
    "        overlap_in_pairs[group] = overall_overlap\n",
    "    return overlap_in_pairs\n",
    "\n",
    "percentage = overall(eligible_pairs)"
   ]
  },
  {
   "cell_type": "code",
   "execution_count": 73,
   "metadata": {},
   "outputs": [],
   "source": [
    "def rank_pairs(percentage: dict) -> str:\n",
    "    for (key, value) in sorted(percentage.items(), key = lambda items: items[1], reverse = True):\n",
    "        print(key,',', value)"
   ]
  },
  {
   "cell_type": "code",
   "execution_count": 74,
   "metadata": {},
   "outputs": [
    {
     "name": "stdout",
     "output_type": "stream",
     "text": [
      "Kevin & Bob , 20.0\n",
      "Stuart & Bob , 20.0\n",
      "Stuart & Edith , 20.0\n",
      "Bob & Edith , 20.0\n",
      "Kevin & Edith , 15.0\n"
     ]
    }
   ],
   "source": [
    "rank_pairs(percentage)"
   ]
  },
  {
   "cell_type": "code",
   "execution_count": null,
   "metadata": {},
   "outputs": [],
   "source": []
  }
 ],
 "metadata": {
  "kernelspec": {
   "display_name": "Python 3",
   "language": "python",
   "name": "python3"
  },
  "language_info": {
   "codemirror_mode": {
    "name": "ipython",
    "version": 3
   },
   "file_extension": ".py",
   "mimetype": "text/x-python",
   "name": "python",
   "nbconvert_exporter": "python",
   "pygments_lexer": "ipython3",
   "version": "3.10.12"
  }
 },
 "nbformat": 4,
 "nbformat_minor": 2
}
