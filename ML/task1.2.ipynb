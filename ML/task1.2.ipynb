{
 "cells": [
  {
   "cell_type": "code",
   "execution_count": 1,
   "metadata": {},
   "outputs": [],
   "source": [
    "gadgets = [\n",
    "    (\"Explosive Batarangs\", 3, True),\n",
    "    (\"Batarangs\", 5, True),\n",
    "    (\"Smoke Pellets\", 0, False),\n",
    "    (\"Tear Gas Grenades\", 2, True),\n",
    "    (\"Night Vision Goggles\", 1, True),\n",
    "    (\"Batclaw\", 0, False),\n",
    "    (\"Grapple Gun\", 3, True),\n",
    "    (\"Batsignal\", 0, False),\n",
    "    (\"Utility Belt\", 1, True),\n",
    "    (\"Batmobile Tires\", 4, True)\n",
    "]"
   ]
  },
  {
   "cell_type": "code",
   "execution_count": 2,
   "metadata": {},
   "outputs": [
    {
     "name": "stdout",
     "output_type": "stream",
     "text": [
      "{'Explosive Batarangs': 3, 'Batarangs': 5, 'Tear Gas Grenades': 2, 'Night Vision Goggles': 1, 'Grapple Gun': 3, 'Utility Belt': 1, 'Batmobile Tires': 4}\n",
      "{'Smoke Pellets': 0, 'Batclaw': 0, 'Batsignal': 0}\n"
     ]
    }
   ],
   "source": [
    "avl, navl = dict(), dict()\n",
    "def split_by_availability(gadgets: list[tuple]):\n",
    "    for gadget in gadgets:\n",
    "        product_name, quantity, in_stock = gadget\n",
    "        if in_stock:\n",
    "            avl[product_name] = int(quantity)\n",
    "        else:\n",
    "            navl[product_name] = 0\n",
    "\n",
    "split_by_availability(gadgets)\n",
    "print(avl, navl, sep = \"\\n\")"
   ]
  },
  {
   "cell_type": "code",
   "execution_count": 5,
   "metadata": {},
   "outputs": [],
   "source": [
    "def sort(group: dict, index: str) -> dict:\n",
    "    return sorted(group.items(), key = lambda x : x[index], reverse = True)"
   ]
  },
  {
   "cell_type": "code",
   "execution_count": 8,
   "metadata": {},
   "outputs": [],
   "source": [
    "def efficient_sorting(inside: dict, out: dict) -> list[tuple]:\n",
    "    sorted = list(sort(inside, 1) + sort(out, 0))\n",
    "    return sorted\n",
    "    "
   ]
  },
  {
   "cell_type": "code",
   "execution_count": 9,
   "metadata": {},
   "outputs": [
    {
     "data": {
      "text/plain": [
       "[('Batarangs', 5),\n",
       " ('Batmobile Tires', 4),\n",
       " ('Explosive Batarangs', 3),\n",
       " ('Grapple Gun', 3),\n",
       " ('Tear Gas Grenades', 2),\n",
       " ('Night Vision Goggles', 1),\n",
       " ('Utility Belt', 1),\n",
       " ('Smoke Pellets', 0),\n",
       " ('Batsignal', 0),\n",
       " ('Batclaw', 0)]"
      ]
     },
     "execution_count": 9,
     "metadata": {},
     "output_type": "execute_result"
    }
   ],
   "source": [
    "efficient_sorting(avl, navl)"
   ]
  }
 ],
 "metadata": {
  "kernelspec": {
   "display_name": "Python 3",
   "language": "python",
   "name": "python3"
  },
  "language_info": {
   "codemirror_mode": {
    "name": "ipython",
    "version": 3
   },
   "file_extension": ".py",
   "mimetype": "text/x-python",
   "name": "python",
   "nbconvert_exporter": "python",
   "pygments_lexer": "ipython3",
   "version": "3.10.12"
  }
 },
 "nbformat": 4,
 "nbformat_minor": 2
}
